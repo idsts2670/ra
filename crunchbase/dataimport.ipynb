{
 "cells": [
  {
   "cell_type": "code",
   "execution_count": 1,
   "metadata": {},
   "outputs": [],
   "source": [
    "import time\n",
    "import requests\n",
    "import json"
   ]
  },
  {
   "cell_type": "code",
   "execution_count": 5,
   "metadata": {},
   "outputs": [
    {
     "name": "stdout",
     "output_type": "stream",
     "text": [
      "Making request 1\n",
      "[{'message': 'invalid field_id', 'code': 'MD101', 'entity_def_id': 'organization', 'collection_id': 'organizations', 'field_id': 'category_group_list'}]\n",
      "Making request 2\n",
      "[{'message': 'invalid field_id', 'code': 'MD101', 'entity_def_id': 'organization', 'collection_id': 'organizations', 'field_id': 'category_group_list'}]\n",
      "Making request 3\n",
      "[{'message': 'invalid field_id', 'code': 'MD101', 'entity_def_id': 'organization', 'collection_id': 'organizations', 'field_id': 'category_group_list'}]\n",
      "Making request 4\n",
      "[{'message': 'invalid field_id', 'code': 'MD101', 'entity_def_id': 'organization', 'collection_id': 'organizations', 'field_id': 'category_group_list'}]\n",
      "Making request 5\n",
      "[{'message': 'invalid field_id', 'code': 'MD101', 'entity_def_id': 'organization', 'collection_id': 'organizations', 'field_id': 'category_group_list'}]\n",
      "Making request 6\n",
      "[{'message': 'invalid field_id', 'code': 'MD101', 'entity_def_id': 'organization', 'collection_id': 'organizations', 'field_id': 'category_group_list'}]\n",
      "Making request 7\n",
      "[{'message': 'invalid field_id', 'code': 'MD101', 'entity_def_id': 'organization', 'collection_id': 'organizations', 'field_id': 'category_group_list'}]\n",
      "Making request 8\n",
      "[{'message': 'invalid field_id', 'code': 'MD101', 'entity_def_id': 'organization', 'collection_id': 'organizations', 'field_id': 'category_group_list'}]\n",
      "Making request 9\n",
      "[{'message': 'invalid field_id', 'code': 'MD101', 'entity_def_id': 'organization', 'collection_id': 'organizations', 'field_id': 'category_group_list'}]\n",
      "Making request 10\n",
      "[{'message': 'invalid field_id', 'code': 'MD101', 'entity_def_id': 'organization', 'collection_id': 'organizations', 'field_id': 'category_group_list'}]\n"
     ]
    }
   ],
   "source": [
    "# Crunchbase API Key goes here\n",
    "api_key = \"5f2dfeab559fe9ca8a710e3db58c5f0c\"\n",
    "\n",
    "# Base URL for the Crunchbase API\n",
    "base_url = \"https://api.crunchbase.com/api/v4/searches/organizations?user_key=\"\n",
    "# Headers for the POST request\n",
    "headers = {\n",
    "    \"Content-Type\": \"application/json\",\n",
    "}\n",
    "\n",
    "# Function to make API request\n",
    "def make_request(data, page_number):\n",
    "    data[\"page\"] = {\"number\": page_number}\n",
    "    response = requests.post(base_url + api_key, headers=headers, data=json.dumps(data))\n",
    "    return response.json()\n",
    "\n",
    "# The body request\n",
    "data = {\n",
    "    \"field_ids\": [\n",
    "        \"identifier\",\n",
    "        \"founded_on\",\n",
    "        \"name\",\n",
    "        \"rank_org\",\n",
    "        \"short_description\",\n",
    "        \"categories\",\n",
    "        \"location_identifiers\"\n",
    "    ],\n",
    "    \"order\": [\n",
    "        {\n",
    "            \"field_id\": \"name\",\n",
    "            \"sort\": \"asc\"\n",
    "        }\n",
    "    ],\n",
    "    \"query\": [\n",
    "        {\n",
    "            \"type\": \"predicate\",\n",
    "            \"field_id\": \"category_group_list\",\n",
    "            \"operator_id\": \"contains\",\n",
    "            \"values\": [\"Artificial Intelligence\", \"Machine Learning\", \"Intelligent Systems\", \"Natural Language Processing\"]\n",
    "        },\n",
    "        {\n",
    "            \"type\": \"predicate\",\n",
    "            \"field_id\": \"location_identifiers\",\n",
    "            \"operator_id\": \"includes\",\n",
    "            \"values\": [\"498a147a51854faeb55ae18beb8d8548\"]\n",
    "        }\n",
    "    ],\n",
    "    \"limit\": 1000\n",
    "}\n",
    "\n",
    "all_data = []\n",
    "for i in range(10):  # 10,000 organizations, 1,000 per request\n",
    "    print(f\"Making request {i+1}\")\n",
    "    res = make_request(data, i+1)\n",
    "    print(res)\n",
    "    # all_data.extend(res[\"data\"][\"items\"])\n",
    "    \n",
    "    # Sleep for 2.4 seconds to respect rate limit of 25 requests per minute\n",
    "    time.sleep(2.4)\n",
    "    \n",
    "# Now all_data contains 10,000 organization data\n",
    "# print(all_data)"
   ]
  },
  {
   "cell_type": "code",
   "execution_count": null,
   "metadata": {},
   "outputs": [],
   "source": []
  }
 ],
 "metadata": {
  "kernelspec": {
   "display_name": "python38",
   "language": "python",
   "name": "python3"
  },
  "language_info": {
   "codemirror_mode": {
    "name": "ipython",
    "version": 3
   },
   "file_extension": ".py",
   "mimetype": "text/x-python",
   "name": "python",
   "nbconvert_exporter": "python",
   "pygments_lexer": "ipython3",
   "version": "3.8.16"
  },
  "orig_nbformat": 4
 },
 "nbformat": 4,
 "nbformat_minor": 2
}

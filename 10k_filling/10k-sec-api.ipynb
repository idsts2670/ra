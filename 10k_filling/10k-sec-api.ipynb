{
 "cells": [
  {
   "cell_type": "code",
   "execution_count": 1,
   "metadata": {},
   "outputs": [],
   "source": [
    "# %pip install sec-api\n",
    "# %pip install pdfkit\n",
    "# %pip install wkhtmltopdf"
   ]
  },
  {
   "cell_type": "code",
   "execution_count": 47,
   "metadata": {},
   "outputs": [],
   "source": [
    "from sec_api import ExtractorApi\n",
    "import pdfkit\n",
    "import pandas as pd\n",
    "import os\n",
    "from sec_api import RenderApi\n",
    "from pathlib import Path\n",
    "import multiprocessing"
   ]
  },
  {
   "cell_type": "code",
   "execution_count": 7,
   "metadata": {},
   "outputs": [
    {
     "data": {
      "text/plain": [
       "'/Users/satoshiido/Documents/programming/RA/10k_filling'"
      ]
     },
     "execution_count": 7,
     "metadata": {},
     "output_type": "execute_result"
    }
   ],
   "source": [
    "os. getcwd()"
   ]
  },
  {
   "cell_type": "code",
   "execution_count": 21,
   "metadata": {},
   "outputs": [
    {
     "data": {
      "text/html": [
       "<div>\n",
       "<style scoped>\n",
       "    .dataframe tbody tr th:only-of-type {\n",
       "        vertical-align: middle;\n",
       "    }\n",
       "\n",
       "    .dataframe tbody tr th {\n",
       "        vertical-align: top;\n",
       "    }\n",
       "\n",
       "    .dataframe thead th {\n",
       "        text-align: right;\n",
       "    }\n",
       "</style>\n",
       "<table border=\"1\" class=\"dataframe\">\n",
       "  <thead>\n",
       "    <tr style=\"text-align: right;\">\n",
       "      <th></th>\n",
       "      <th>cik</th>\n",
       "      <th>Ticker</th>\n",
       "    </tr>\n",
       "  </thead>\n",
       "  <tbody>\n",
       "    <tr>\n",
       "      <th>0</th>\n",
       "      <td>1090872</td>\n",
       "      <td>A</td>\n",
       "    </tr>\n",
       "    <tr>\n",
       "      <th>1</th>\n",
       "      <td>815094</td>\n",
       "      <td>ABMD</td>\n",
       "    </tr>\n",
       "    <tr>\n",
       "      <th>2</th>\n",
       "      <td>1427925</td>\n",
       "      <td>ACRX</td>\n",
       "    </tr>\n",
       "    <tr>\n",
       "      <th>3</th>\n",
       "      <td>926282</td>\n",
       "      <td>ADTN</td>\n",
       "    </tr>\n",
       "    <tr>\n",
       "      <th>4</th>\n",
       "      <td>1506928</td>\n",
       "      <td>AVGR</td>\n",
       "    </tr>\n",
       "  </tbody>\n",
       "</table>\n",
       "</div>"
      ],
      "text/plain": [
       "       cik Ticker\n",
       "0  1090872      A\n",
       "1   815094   ABMD\n",
       "2  1427925   ACRX\n",
       "3   926282   ADTN\n",
       "4  1506928   AVGR"
      ]
     },
     "metadata": {},
     "output_type": "display_data"
    },
    {
     "data": {
      "text/html": [
       "<div>\n",
       "<style scoped>\n",
       "    .dataframe tbody tr th:only-of-type {\n",
       "        vertical-align: middle;\n",
       "    }\n",
       "\n",
       "    .dataframe tbody tr th {\n",
       "        vertical-align: top;\n",
       "    }\n",
       "\n",
       "    .dataframe thead th {\n",
       "        text-align: right;\n",
       "    }\n",
       "</style>\n",
       "<table border=\"1\" class=\"dataframe\">\n",
       "  <thead>\n",
       "    <tr style=\"text-align: right;\">\n",
       "      <th></th>\n",
       "      <th>cik</th>\n",
       "      <th>Ticker</th>\n",
       "    </tr>\n",
       "  </thead>\n",
       "  <tbody>\n",
       "    <tr>\n",
       "      <th>45</th>\n",
       "      <td>1429560</td>\n",
       "      <td>TRVN</td>\n",
       "    </tr>\n",
       "    <tr>\n",
       "      <th>46</th>\n",
       "      <td>1519061</td>\n",
       "      <td>TSE</td>\n",
       "    </tr>\n",
       "    <tr>\n",
       "      <th>47</th>\n",
       "      <td>1105705</td>\n",
       "      <td>TWX</td>\n",
       "    </tr>\n",
       "    <tr>\n",
       "      <th>48</th>\n",
       "      <td>1124610</td>\n",
       "      <td>VMW</td>\n",
       "    </tr>\n",
       "    <tr>\n",
       "      <th>49</th>\n",
       "      <td>105770</td>\n",
       "      <td>WST</td>\n",
       "    </tr>\n",
       "  </tbody>\n",
       "</table>\n",
       "</div>"
      ],
      "text/plain": [
       "        cik Ticker\n",
       "45  1429560   TRVN\n",
       "46  1519061    TSE\n",
       "47  1105705    TWX\n",
       "48  1124610    VMW\n",
       "49   105770    WST"
      ]
     },
     "metadata": {},
     "output_type": "display_data"
    }
   ],
   "source": [
    "# load Russell 3000 holdings CSV into a dataframe\n",
    "holdings = pd.read_csv('./mikecik_2015/mikecik_2015.csv')\n",
    "display(holdings.head())\n",
    "display(holdings.tail())"
   ]
  },
  {
   "cell_type": "code",
   "execution_count": 48,
   "metadata": {},
   "outputs": [],
   "source": [
    "from sec_api import QueryApi\n",
    "api_key = \"34686d55d1115b6b415141f1501c0d8c66ce5ef2cc31d77b797dbc028f14e22b\"\n",
    "queryApi = QueryApi(api_key=api_key)"
   ]
  },
  {
   "cell_type": "code",
   "execution_count": 23,
   "metadata": {},
   "outputs": [],
   "source": [
    "# create batches of tickers: [[A,B,C], [D,E,F], ...]\n",
    "# a single batch has a maximum of max_length_of_batch tickers\n",
    "def create_batches(tickers = [], max_length_of_batch = 100):\n",
    "  batches = [[]]\n",
    "\n",
    "  for ticker in tickers:\n",
    "    if len(batches[len(batches)-1]) == max_length_of_batch:\n",
    "      batches.append([])\n",
    "\n",
    "    batches[len(batches)-1].append(ticker)\n",
    "\n",
    "  return batches\n",
    "\n",
    "\n",
    "batches = create_batches(list(holdings['Ticker']))\n"
   ]
  },
  {
   "cell_type": "code",
   "execution_count": 49,
   "metadata": {},
   "outputs": [],
   "source": [
    "def download_10K_metadata(tickers = [], start_year = 2015, end_year = 2015):\n",
    "  if Path('./mikecik_2015/metadata.csv').is_file():\n",
    "    result = None\n",
    "    result = pd.read_csv('./mikecik_2015/metadata.csv')\n",
    "    return result\n",
    "\n",
    "  print('Starting download process')\n",
    "\n",
    "  # create ticker batches, with 100 tickers per batch\n",
    "  batches = create_batches(tickers)\n",
    "  frames = []\n",
    "\n",
    "  for year in range(start_year, end_year + 1):\n",
    "    for batch in batches:\n",
    "      tickers_joined = ', '.join(batch)\n",
    "      ticker_query = 'ticker:({})'.format(tickers_joined)\n",
    "\n",
    "      query_string = '{ticker_query} AND filedAt:[{start_year}-01-01 TO {end_year}-12-31] AND formType:\"10-K\" AND NOT formType:\"10-K/A\" AND NOT formType:NT'.format(ticker_query=ticker_query, start_year=year, end_year=year)\n",
    "\n",
    "      query = {\n",
    "        \"query\": { \"query_string\": { \n",
    "            \"query\": query_string,\n",
    "            \"time_zone\": \"America/New_York\"\n",
    "        } },\n",
    "        \"from\": \"0\",\n",
    "        \"size\": \"200\",\n",
    "        \"sort\": [{ \"filedAt\": { \"order\": \"desc\" } }]\n",
    "      }\n",
    "\n",
    "      response = queryApi.get_filings(query)\n",
    "\n",
    "      filings = response['filings']\n",
    "\n",
    "      metadata = list(map(lambda f: {'ticker': f['ticker'], \n",
    "                                     'cik': f['cik'], \n",
    "                                     'formType': f['formType'], \n",
    "                                     'filedAt': f['filedAt'], \n",
    "                                     'filingUrl': f['linkToFilingDetails']}, filings))\n",
    "\n",
    "      df = pd.DataFrame.from_records(metadata)\n",
    "\n",
    "      frames.append(df)\n",
    "\n",
    "    print('Downloaded metadata for year', year)\n",
    "\n",
    "\n",
    "  result = pd.concat(frames)\n",
    "  result.to_csv('metadata.csv', index=False)\n",
    "\n",
    "  number_metadata_downloaded = len(result)\n",
    "  print('Downloaded completed. Metadata downloaded for {} filings.'.format(number_metadata_downloaded))\n",
    "\n",
    "  return result"
   ]
  },
  {
   "cell_type": "code",
   "execution_count": 50,
   "metadata": {},
   "outputs": [],
   "source": [
    "tickers = list(holdings['Ticker'])\n",
    "\n",
    "metadata = download_10K_metadata(tickers=tickers, start_year=2015, end_year=2015)\n",
    "metadata.head()"
   ]
  },
  {
   "cell_type": "code",
   "execution_count": 59,
   "metadata": {},
   "outputs": [
    {
     "data": {
      "text/html": [
       "<div>\n",
       "<style scoped>\n",
       "    .dataframe tbody tr th:only-of-type {\n",
       "        vertical-align: middle;\n",
       "    }\n",
       "\n",
       "    .dataframe tbody tr th {\n",
       "        vertical-align: top;\n",
       "    }\n",
       "\n",
       "    .dataframe thead th {\n",
       "        text-align: right;\n",
       "    }\n",
       "</style>\n",
       "<table border=\"1\" class=\"dataframe\">\n",
       "  <thead>\n",
       "    <tr style=\"text-align: right;\">\n",
       "      <th></th>\n",
       "      <th>ticker</th>\n",
       "      <th>cik</th>\n",
       "      <th>formType</th>\n",
       "      <th>filedAt</th>\n",
       "      <th>filingUrl</th>\n",
       "    </tr>\n",
       "  </thead>\n",
       "  <tbody>\n",
       "    <tr>\n",
       "      <th>0</th>\n",
       "      <td>A</td>\n",
       "      <td>1090872</td>\n",
       "      <td>10-K</td>\n",
       "      <td>2015-12-18T19:33:31-05:00</td>\n",
       "      <td>https://www.sec.gov/Archives/edgar/data/109087...</td>\n",
       "    </tr>\n",
       "    <tr>\n",
       "      <th>1</th>\n",
       "      <td>NDSN</td>\n",
       "      <td>72331</td>\n",
       "      <td>10-K</td>\n",
       "      <td>2015-12-15T11:36:58-05:00</td>\n",
       "      <td>https://www.sec.gov/Archives/edgar/data/72331/...</td>\n",
       "    </tr>\n",
       "    <tr>\n",
       "      <th>2</th>\n",
       "      <td>RSTI</td>\n",
       "      <td>1019361</td>\n",
       "      <td>10-K</td>\n",
       "      <td>2015-11-30T16:41:39-05:00</td>\n",
       "      <td>https://www.sec.gov/Archives/edgar/data/101936...</td>\n",
       "    </tr>\n",
       "    <tr>\n",
       "      <th>3</th>\n",
       "      <td>BDX</td>\n",
       "      <td>10795</td>\n",
       "      <td>10-K</td>\n",
       "      <td>2015-11-25T11:35:36-05:00</td>\n",
       "      <td>https://www.sec.gov/Archives/edgar/data/10795/...</td>\n",
       "    </tr>\n",
       "    <tr>\n",
       "      <th>4</th>\n",
       "      <td>FFIV</td>\n",
       "      <td>1048695</td>\n",
       "      <td>10-K</td>\n",
       "      <td>2015-11-06T13:28:33-05:00</td>\n",
       "      <td>https://www.sec.gov/Archives/edgar/data/104869...</td>\n",
       "    </tr>\n",
       "  </tbody>\n",
       "</table>\n",
       "</div>"
      ],
      "text/plain": [
       "  ticker      cik formType                    filedAt  \\\n",
       "0      A  1090872     10-K  2015-12-18T19:33:31-05:00   \n",
       "1   NDSN    72331     10-K  2015-12-15T11:36:58-05:00   \n",
       "2   RSTI  1019361     10-K  2015-11-30T16:41:39-05:00   \n",
       "3    BDX    10795     10-K  2015-11-25T11:35:36-05:00   \n",
       "4   FFIV  1048695     10-K  2015-11-06T13:28:33-05:00   \n",
       "\n",
       "                                           filingUrl  \n",
       "0  https://www.sec.gov/Archives/edgar/data/109087...  \n",
       "1  https://www.sec.gov/Archives/edgar/data/72331/...  \n",
       "2  https://www.sec.gov/Archives/edgar/data/101936...  \n",
       "3  https://www.sec.gov/Archives/edgar/data/10795/...  \n",
       "4  https://www.sec.gov/Archives/edgar/data/104869...  "
      ]
     },
     "execution_count": 59,
     "metadata": {},
     "output_type": "execute_result"
    }
   ],
   "source": [
    "metadata.head()"
   ]
  },
  {
   "cell_type": "code",
   "execution_count": 57,
   "metadata": {},
   "outputs": [
    {
     "data": {
      "text/plain": [
       "42"
      ]
     },
     "execution_count": 57,
     "metadata": {},
     "output_type": "execute_result"
    }
   ],
   "source": [
    "len(metadata)"
   ]
  },
  {
   "cell_type": "code",
   "execution_count": null,
   "metadata": {},
   "outputs": [],
   "source": [
    "# this part below is where we want to change using extractorApi\n",
    "import requests\n",
    "import datetime\n",
    "\n",
    "# Filing Render & Download API:\n",
    "# api key\n",
    "## https://sec-api.io/login\n",
    "## https://github.com/janlukasschroeder/sec-api-python/blob/master/README.md#filing-render--download-api\n",
    "## https://pypi.org/project/sec-api/#filing-render--download-api\n",
    "extractorApi = ExtractorApi(\"34686d55d1115b6b415141f1501c0d8c66ce5ef2cc31d77b797dbc028f14e22b\")\n",
    "\n",
    "\n",
    "# get the original HTML of section 1 \"Business\"\n",
    "section1_html = extractorApi.get_section(filing_url_10k, \"1\", \"html\")\n",
    "# get the original HTML of section 1A \"Risk Factors\"\n",
    "section1a_html = extractorApi.get_section(filing_url_10k, \"1A\", \"html\")\n",
    "\n",
    "\n",
    "# this part below is also the part where we want to change (we want to convert html to pdf file)\n",
    "for i in range(0, len(metadata)):\n",
    "    response = requests.get(api_url.iloc[i])\n",
    "    # save the PDF to a local file \"filing.pdf\"\n",
    "\n",
    "    # add year to the name\n",
    "    with open(file_name_cik.iloc[i] + file_name.iloc[i]+\".pdf\", 'wb') as f:\n",
    "        f.write(response.content)"
   ]
  },
  {
   "cell_type": "code",
   "execution_count": 25,
   "metadata": {},
   "outputs": [
    {
     "ename": "NameError",
     "evalue": "name 'metadata' is not defined",
     "output_type": "error",
     "traceback": [
      "\u001b[0;31m---------------------------------------------------------------------------\u001b[0m",
      "\u001b[0;31mNameError\u001b[0m                                 Traceback (most recent call last)",
      "\u001b[1;32m/Users/satoshiido/Documents/programming/RA/10k_filling/10k-sec-api.ipynb Cell 7\u001b[0m line \u001b[0;36m3\n\u001b[1;32m      <a href='vscode-notebook-cell:/Users/satoshiido/Documents/programming/RA/10k_filling/10k-sec-api.ipynb#X14sZmlsZQ%3D%3D?line=0'>1</a>\u001b[0m API_ENDPOINT \u001b[39m=\u001b[39m \u001b[39m\"\u001b[39m\u001b[39mhttps://api.sec-api.io/filing-reader\u001b[39m\u001b[39m\"\u001b[39m\n\u001b[1;32m      <a href='vscode-notebook-cell:/Users/satoshiido/Documents/programming/RA/10k_filling/10k-sec-api.ipynb#X14sZmlsZQ%3D%3D?line=1'>2</a>\u001b[0m API_KEY \u001b[39m=\u001b[39m \u001b[39m\"\u001b[39m\u001b[39m458301555a0838acf5e8eca62a944cce9186d6612e35a3fb5e8fcfefef7fbf5cff\u001b[39m\u001b[39m\"\u001b[39m\n\u001b[0;32m----> <a href='vscode-notebook-cell:/Users/satoshiido/Documents/programming/RA/10k_filling/10k-sec-api.ipynb#X14sZmlsZQ%3D%3D?line=2'>3</a>\u001b[0m filing_url \u001b[39m=\u001b[39m metadata[\u001b[39m'\u001b[39m\u001b[39mfilingUrl\u001b[39m\u001b[39m'\u001b[39m]\u001b[39m.\u001b[39mreplace(\u001b[39m'\u001b[39m\u001b[39mix?doc=/\u001b[39m\u001b[39m'\u001b[39m, \u001b[39m'\u001b[39m\u001b[39m'\u001b[39m)\n\u001b[1;32m      <a href='vscode-notebook-cell:/Users/satoshiido/Documents/programming/RA/10k_filling/10k-sec-api.ipynb#X14sZmlsZQ%3D%3D?line=3'>4</a>\u001b[0m api_url \u001b[39m=\u001b[39m API_ENDPOINT \u001b[39m+\u001b[39m \u001b[39m\"\u001b[39m\u001b[39m?token=\u001b[39m\u001b[39m\"\u001b[39m \u001b[39m+\u001b[39m API_KEY \u001b[39m+\u001b[39m \u001b[39m\"\u001b[39m\u001b[39m&url=\u001b[39m\u001b[39m\"\u001b[39m \u001b[39m+\u001b[39m filing_url \u001b[39m+\u001b[39m \u001b[39m\"\u001b[39m\u001b[39m&type=pdf\u001b[39m\u001b[39m\"\u001b[39m\n",
      "\u001b[0;31mNameError\u001b[0m: name 'metadata' is not defined"
     ]
    }
   ],
   "source": [
    "API_ENDPOINT = \"https://api.sec-api.io/filing-reader\"\n",
    "API_KEY = \"458301555a0838acf5e8eca62a944cce9186d6612e35a3fb5e8fcfefef7fbf5cff\"\n",
    "filing_url = metadata['filingUrl'].replace('ix?doc=/', '')\n",
    "api_url = API_ENDPOINT + \"?token=\" + API_KEY + \"&url=\" + filing_url + \"&type=pdf\""
   ]
  },
  {
   "cell_type": "code",
   "execution_count": 53,
   "metadata": {},
   "outputs": [],
   "source": [
    "# this part below is where we want to change using extractorApi\n",
    "import requests\n",
    "import datetime\n",
    "API_ENDPOINT = \"https://api.sec-api.io/filing-reader\"\n",
    "API_KEY = \"34686d55d1115b6b415141f1501c0d8c66ce5ef2cc31d77b797dbc028f14e22b\"\n",
    "filing_url = metadata['filingUrl'].replace('ix?doc=/', '')\n",
    "api_url = API_ENDPOINT + \"?token=\" + API_KEY + \"&url=\" + filing_url + \"&type=pdf\"\n",
    "file_name = filing_url.str.rsplit(\"/\", n=1, expand=True)[1]\n",
    "file_name_cik = metadata['cik']\n",
    "\n",
    "# this part below is also the part where we want to change (we want to convert html to pdf file)\n",
    "for i in range(0, len(metadata)):\n",
    "    response = requests.get(api_url.iloc[i])\n",
    "    # save the PDF to a local file \"filing.pdf\"\n",
    "\n",
    "    # add year to the name\n",
    "    with open(file_name_cik.iloc[i] + file_name.iloc[i]+\".pdf\", 'wb') as f:\n",
    "        f.write(response.content)"
   ]
  },
  {
   "cell_type": "code",
   "execution_count": 3,
   "metadata": {},
   "outputs": [],
   "source": [
    "# 10-K example\n",
    "\n",
    "# Tesla 10-K filing\n",
    "filing_url_10k = \"https://www.sec.gov/Archives/edgar/data/1318605/000156459021004599/tsla-10k_20201231.htm\"\n",
    "\n",
    "# get the standardized and cleaned text of section 1 \"Business\"\n",
    "section1_text = extractorApi.get_section(filing_url_10k, \"1\", \"text\")\n",
    "# get the standardized and cleaned text of section 1A \"Risk Factors\"\n",
    "section1a_text = extractorApi.get_section(filing_url_10k, \"1A\", \"text\")\n",
    "\n",
    "\n",
    "\n",
    "# get the original HTML of section 1 \"Business\"\n",
    "section1_html = extractorApi.get_section(filing_url_10k, \"1\", \"html\")\n",
    "# get the original HTML of section 1A \"Risk Factors\"\n",
    "section1a_html = extractorApi.get_section(filing_url_10k, \"1A\", \"html\")"
   ]
  },
  {
   "cell_type": "code",
   "execution_count": 6,
   "metadata": {},
   "outputs": [
    {
     "data": {
      "text/plain": [
       "True"
      ]
     },
     "execution_count": 6,
     "metadata": {},
     "output_type": "execute_result"
    }
   ],
   "source": [
    "# Configure pdfkit with path to wkhtmltopdf if it's not in PATH\n",
    "# pdfkit_config = pdfkit.configuration(wkhtmltopdf=\"/path/to/wkhtmltopdf\")\n",
    "\n",
    "# Combine the HTML content into one large HTML string\n",
    "combined_html = section1_html + section1a_html\n",
    "\n",
    "# Output filename for the PDF\n",
    "output_pdf = 'section1_1a.pdf'\n",
    "\n",
    "# Convert HTML to PDF\n",
    "# pdfkit.from_string(combined_html, output_pdf)\n",
    "pdfkit.from_string(combined_html, output_pdf)\n",
    "\n",
    "# print(f\"The PDF file has been created: {output_pdf}\")"
   ]
  },
  {
   "cell_type": "code",
   "execution_count": null,
   "metadata": {},
   "outputs": [],
   "source": [
    "\n",
    "# api_key='cfa0929a6e4b23d8a7f882039072195652578fdcf7cc0ee9732ad712ff9834f1'\n",
    "\n",
    "queryApi = QueryApi(api_key=api_key)\n",
    "\n",
    "def download_10K_metadata(tickers = [], start_year = 2015, end_year = 2015):\n",
    "  if Path('metadata.csv').is_file():\n",
    "    result = pd.read_csv('metadata.csv')\n",
    "    return result\n",
    "\n",
    "  print('Starting download process')\n",
    "\n",
    "  # create ticker batches, with 100 tickers per batch\n",
    "  batches = create_batches(tickers)\n",
    "  frames = []\n",
    "\n",
    "  for year in range(start_year, end_year + 1):\n",
    "    for batch in batches:\n",
    "      tickers_joined = ', '.join(batch)\n",
    "      ticker_query = 'ticker:({})'.format(tickers_joined)\n",
    "\n",
    "      query_string = '{ticker_query} AND filedAt:[{start_year}-01-01 TO {end_year}-12-31] AND formType:\"10-K\" AND NOT formType:\"10-K/A\" AND NOT formType:NT'.format(ticker_query=ticker_query, start_year=year, end_year=year)\n",
    "\n",
    "      query = {\n",
    "        \"query\": { \"query_string\": { \n",
    "            \"query\": query_string,\n",
    "            \"time_zone\": \"America/New_York\"\n",
    "        } },\n",
    "        \"from\": \"0\",\n",
    "        \"size\": \"200\",\n",
    "        \"sort\": [{ \"filedAt\": { \"order\": \"desc\" } }]\n",
    "      }\n",
    "\n",
    "      response = queryApi.get_filings(query)\n",
    "\n",
    "      filings = response['filings']\n",
    "\n",
    "      metadata = list(map(lambda f: {'ticker': f['ticker'], \n",
    "                                     'cik': f['cik'], \n",
    "                                     'formType': f['formType'], \n",
    "                                     'filedAt': f['filedAt'], \n",
    "                                     'filingUrl': f['linkToFilingDetails']}, filings))\n",
    "\n",
    "      df = pd.DataFrame.from_records(metadata)\n",
    "\n",
    "      frames.append(df)\n",
    "\n",
    "    print('Downloaded metadata for year', year)\n",
    "\n",
    "\n",
    "  result = pd.concat(frames)\n",
    "  result.to_csv('metadata.csv', index=False)\n",
    "\n",
    "  number_metadata_downloaded = len(result)\n",
    "  print('Downloaded completed. Metadata downloaded for {} filings.'.format(number_metadata_downloaded))\n",
    "\n",
    "  return result\n",
    "\n",
    "\n",
    "tickers = list(holdings['Ticker'])\n",
    "\n",
    "metadata = download_10K_metadata(tickers=tickers, start_year=2015, end_year=2015)\n",
    "\n",
    "# this part below is where we want to change using extractorApi\n",
    "import requests\n",
    "import datetime\n",
    "API_ENDPOINT = \"https://api.sec-api.io/filing-reader\"\n",
    "API_KEY = \"458301555a0838acf5e8eca62a944cce9186d6612e35a3fb5e8fcfefef7fbf5cff\"\n",
    "filing_url = metadata['filingUrl'].replace('ix?doc=/', '')\n",
    "api_url = API_ENDPOINT + \"?token=\" + API_KEY + \"&url=\" + filing_url + \"&type=pdf\"\n",
    "file_name = filing_url.str.rsplit(\"/\", n=1, expand=True)[1]\n",
    "file_name_cik = metadata['cik']\n",
    "\n",
    "\n",
    "# this part below is also the part where we want to change (we want to convert html to pdf file)\n",
    "for i in range(0, len(metadata)):\n",
    "    response = requests.get(api_url.iloc[i])\n",
    "    # save the PDF to a local file \"filing.pdf\"\n",
    "\n",
    "    # add year to the name\n",
    "    with open(file_name_cik.iloc[i] + file_name.iloc[i]+\".pdf\", 'wb') as f:\n",
    "        f.write(response.content)"
   ]
  }
 ],
 "metadata": {
  "kernelspec": {
   "display_name": "python39",
   "language": "python",
   "name": "python3"
  },
  "language_info": {
   "codemirror_mode": {
    "name": "ipython",
    "version": 3
   },
   "file_extension": ".py",
   "mimetype": "text/x-python",
   "name": "python",
   "nbconvert_exporter": "python",
   "pygments_lexer": "ipython3",
   "version": "3.9.18"
  }
 },
 "nbformat": 4,
 "nbformat_minor": 2
}

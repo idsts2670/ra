{
 "cells": [
  {
   "cell_type": "code",
   "execution_count": 1,
   "metadata": {},
   "outputs": [],
   "source": [
    "# %pip install sec-api\n",
    "# %pip install pdfkit\n",
    "# %pip install wkhtmltopdf"
   ]
  },
  {
   "cell_type": "code",
   "execution_count": 5,
   "metadata": {},
   "outputs": [],
   "source": [
    "from sec_api import ExtractorApi\n",
    "import pdfkit"
   ]
  },
  {
   "cell_type": "code",
   "execution_count": 3,
   "metadata": {},
   "outputs": [],
   "source": [
    "# https://sec-api.io/login\n",
    "# https://github.com/janlukasschroeder/sec-api-python/blob/master/README.md#filing-render--download-api\n",
    "# https://pypi.org/project/sec-api/#filing-render--download-api\n",
    "extractorApi = ExtractorApi(\"34686d55d1115b6b415141f1501c0d8c66ce5ef2cc31d77b797dbc028f14e22b\")\n",
    "\n",
    "\n",
    "# 10-K example\n",
    "\n",
    "# Tesla 10-K filing\n",
    "filing_url_10k = \"https://www.sec.gov/Archives/edgar/data/1318605/000156459021004599/tsla-10k_20201231.htm\"\n",
    "\n",
    "# get the standardized and cleaned text of section 1 \"Business\"\n",
    "section1_text = extractorApi.get_section(filing_url_10k, \"1\", \"text\")\n",
    "# get the standardized and cleaned text of section 1A \"Risk Factors\"\n",
    "section1a_text = extractorApi.get_section(filing_url_10k, \"1A\", \"text\")\n",
    "\n",
    "\n",
    "\n",
    "# get the original HTML of section 1 \"Business\"\n",
    "section1_html = extractorApi.get_section(filing_url_10k, \"1\", \"html\")\n",
    "# get the original HTML of section 1A \"Risk Factors\"\n",
    "section1a_html = extractorApi.get_section(filing_url_10k, \"1A\", \"html\")"
   ]
  },
  {
   "cell_type": "code",
   "execution_count": 6,
   "metadata": {},
   "outputs": [
    {
     "data": {
      "text/plain": [
       "True"
      ]
     },
     "execution_count": 6,
     "metadata": {},
     "output_type": "execute_result"
    }
   ],
   "source": [
    "# Configure pdfkit with path to wkhtmltopdf if it's not in PATH\n",
    "# pdfkit_config = pdfkit.configuration(wkhtmltopdf=\"/path/to/wkhtmltopdf\")\n",
    "\n",
    "# Combine the HTML content into one large HTML string\n",
    "combined_html = section1_html + section1a_html\n",
    "\n",
    "# Output filename for the PDF\n",
    "output_pdf = 'section1_1a.pdf'\n",
    "\n",
    "# Convert HTML to PDF\n",
    "# pdfkit.from_string(combined_html, output_pdf)\n",
    "pdfkit.from_string(combined_html, output_pdf)\n",
    "\n",
    "# print(f\"The PDF file has been created: {output_pdf}\")"
   ]
  },
  {
   "cell_type": "code",
   "execution_count": null,
   "metadata": {},
   "outputs": [],
   "source": []
  }
 ],
 "metadata": {
  "kernelspec": {
   "display_name": "python39",
   "language": "python",
   "name": "python3"
  },
  "language_info": {
   "codemirror_mode": {
    "name": "ipython",
    "version": 3
   },
   "file_extension": ".py",
   "mimetype": "text/x-python",
   "name": "python",
   "nbconvert_exporter": "python",
   "pygments_lexer": "ipython3",
   "version": "3.9.18"
  }
 },
 "nbformat": 4,
 "nbformat_minor": 2
}
